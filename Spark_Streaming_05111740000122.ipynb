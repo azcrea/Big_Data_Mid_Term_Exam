{
 "cells": [
  {
   "cell_type": "code",
   "execution_count": 2,
   "id": "5e02eaaa-b685-417f-80f2-57a80e0043c7",
   "metadata": {},
   "outputs": [
    {
     "data": {
      "text/html": [
       "\n",
       "            <div>\n",
       "                <p><b>SparkSession - in-memory</b></p>\n",
       "                \n",
       "        <div>\n",
       "            <p><b>SparkContext</b></p>\n",
       "\n",
       "            <p><a href=\"http://The-Father-Sight:4040\">Spark UI</a></p>\n",
       "\n",
       "            <dl>\n",
       "              <dt>Version</dt>\n",
       "                <dd><code>v3.2.1</code></dd>\n",
       "              <dt>Master</dt>\n",
       "                <dd><code>local[*]</code></dd>\n",
       "              <dt>AppName</dt>\n",
       "                <dd><code>Streaming Process Files</code></dd>\n",
       "            </dl>\n",
       "        </div>\n",
       "        \n",
       "            </div>\n",
       "        "
      ],
      "text/plain": [
       "<pyspark.sql.session.SparkSession at 0x9d44ca0>"
      ]
     },
     "execution_count": 2,
     "metadata": {},
     "output_type": "execute_result"
    }
   ],
   "source": [
    "# Create the Spark Session\n",
    "from pyspark.sql import SparkSession\n",
    "\n",
    "spark = SparkSession \\\n",
    "    .builder \\\n",
    "    .appName(\"Streaming Process Files\") \\\n",
    "    .config(\"spark.streaming.stopGracefullyOnShutdown\", True) \\\n",
    "    .master(\"local[*]\") \\\n",
    "    .getOrCreate()\n",
    "\n",
    "spark"
   ]
  },
  {
   "cell_type": "code",
   "execution_count": 2,
   "id": "8452f370-f55c-442c-aee8-fc295ec90d2c",
   "metadata": {},
   "outputs": [],
   "source": [
    "# To allow automatic schemaInference while reading\n",
    "spark.conf.set(\"spark.sql.streaming.schemaInference\", True)\n",
    "\n",
    "# Create the streaming_df to read from input directory\n",
    "streaming_df = spark.readStream\\\n",
    "    .format(\"json\") \\\n",
    "    .option(\"cleanSource\", \"archive\") \\\n",
    "    .option(\"sourceArchiveDir\", \"MidTermExam_data/archive-05111740000122/\") \\\n",
    "    .option(\"maxFilesPerTrigger\", 3) \\\n",
    "    .load(\"MidTermExam_data/input-05111740000122/\")\n",
    "\n",
    "#read_df to show the schema\n",
    "read_df = spark.read\\\n",
    "    .format(\"json\") \\\n",
    "    .option(\"cleanSource\", \"archive\") \\\n",
    "    .option(\"sourceArchiveDir\", \"MidTermExam_data/archive-05111740000122/\") \\\n",
    "    .option(\"maxFilesPerTrigger\", 3) \\\n",
    "    .load(\"MidTermExam_data/input-05111740000122/\")"
   ]
  },
  {
   "cell_type": "code",
   "execution_count": 3,
   "id": "94e15de5-f02b-454f-b4c8-86ebd28e27d0",
   "metadata": {},
   "outputs": [
    {
     "name": "stdout",
     "output_type": "stream",
     "text": [
      "root\n",
      " |-- authors: string (nullable = true)\n",
      " |-- category: string (nullable = true)\n",
      " |-- date: string (nullable = true)\n",
      " |-- headline: string (nullable = true)\n",
      " |-- link: string (nullable = true)\n",
      " |-- short_description: string (nullable = true)\n",
      "\n",
      "+---------------------------------------+--------------+----------+----------------------------------------------------------------------------------------+-----------------------------------------------------------------------------------------------------------------+--------------------------------------------------------------------------------------------------------------------------------------------------------------------------------------------------------+\n",
      "|authors                                |category      |date      |headline                                                                                |link                                                                                                             |short_description                                                                                                                                                                                       |\n",
      "+---------------------------------------+--------------+----------+----------------------------------------------------------------------------------------+-----------------------------------------------------------------------------------------------------------------+--------------------------------------------------------------------------------------------------------------------------------------------------------------------------------------------------------+\n",
      "|                                       |U.S. NEWS     |2022-09-04|Emergency Declared As Flash Flooding Hits Northwest Georgia                             |https://www.huffpost.com/entry/georgia-flash-flooding_n_63151514e4b0eac9f4cdc7d3                                 |Thunderstorms and heavy rain pounded parts of northwest Georgia on Sunday, sparking flash flooding and dangerously high waters in some areas.                                                           |\n",
      "|Marco Margaritoff                      |ENTERTAINMENT |2022-09-03|'The Osbournes' Will Return In British Revival On BBC: 'Same Laughter, Love And Tears'  |https://www.huffpost.com/entry/the-osbournes-revival-series-announcement_n_6313714ee4b046aa022acc2e              |Millennials might remember the family's MTV reality series from the early 2000s. The BBC series will be filmed at the 350-acre Osbourne estate in England.                                              |\n",
      "|                                       |U.S. NEWS     |2022-09-03|Plane That Circled Mississippi Threatening To Crash Has Landed                          |https://www.huffpost.com/entry/tupelo-mississippi-airplane-walmart_n_6313572be4b0536be045b912                    |A pilot has been arrested after circling a small airplane over Tupelo, Mississippi, while threatening to crash into a Walmart store.                                                                    |\n",
      "|Marcia Dunn, AP                        |SCIENCE       |2022-09-03|Fuel Leak Ruins NASA's 2nd Shot At Launching New Moon Rocket                            |https://www.huffpost.com/entry/fuel-leak-ruins-nasa-launch-moon-artemis_n_63137247e4b0eac9f4cd4aa2               |Part of the space agency's Artemis program, the rocket is the most powerful to date.                                                                                                                    |\n",
      "|Terry Wallace, AP                      |U.S. NEWS     |2022-09-03|9 Migrants Are Found Dead In Rio Grande: Border Patrol                                  |https://www.huffpost.com/entry/8-migrants-dead-rio-grande-border-patrol_n_6312d71ce4b0536be0458388               |Tragic toll followed hazardous crossing by desperate dozens, said officials.                                                                                                                            |\n",
      "|Ben Blanchet                           |U.S. NEWS     |2022-09-02|Owner Of New England Frozen Yogurt Shops Accused Of Hiding Camera In Store Bathroom     |https://www.huffpost.com/entry/new-england-frozen-yogurt-owner-charged_n_6311972ae4b020c4ffab96b2                |Nashua police charged Chanphanou (Sab) Pou with three misdemeanor counts of violation of privacy. He could face up to one year in jail for each charge.                                                 |\n",
      "|Marita Vlachou                         |POLITICS      |2022-09-02|Former White House Counsel Pat Cipollone To Testify Before Grand Jury: Reports          |https://www.huffpost.com/entry/pat-cipollone-jan-6-grand-jury_n_6311c619e4b07d96a24d2ae8                         |Cipollone's former deputy Patrick Philbin is also reportedly scheduled to provide testimony to the grand jury on Friday.                                                                                |\n",
      "|                                       |U.S. NEWS     |2022-09-02|Tropical Storm Danielle Strengthens Into Hurricane, No Current Threat To Land           |https://www.huffpost.com/entry/hurricane-danielle-tropical-storm_n_631236a4e4b020c4ffacca40                      |The storm — the first hurricane of an unusually quiet storm season — is centered about 885 miles west of the Azores.                                                                                    |\n",
      "|Jim Heintz and Vladimir Isachenkov, AP |WORLD NEWS    |2022-09-02|Putin Plans To Snub Gorbachev's Funeral                                                 |https://www.huffpost.com/entry/putin-snubs-gorbachev-funeral_n_6312499ce4b09e34c39504ef                          |The low-key funeral reflects the Kremlin’s uneasiness about the legacy of Gorbachev, who is despised by many at home for the collapse of the Soviet Union.                                              |\n",
      "|Marcia Dunn, AP                        |U.S. NEWS     |2022-09-02|NASA Aims For Saturday Launch Of New Moon Rocket After Fixing Fuel Leaks                |https://www.huffpost.com/entry/nasa-artemis-rocket-launch_n_631265e3e4b0fc6bd23b7e7e                             |The inaugural flight of the 322-foot Artemis I rocket — the most powerful ever built by NASA — was delayed late in the countdown Monday.                                                                |\n",
      "|Christopher Rugaber, AP                |U.S. NEWS     |2022-09-02|U.S. Hiring Slowed In August As Employers Add 315,000 Jobs                              |https://www.huffpost.com/entry/us-economy-jobs-report-august_n_6311fc30e4b0aefceecb070e                          |The unemployment rate rose to 3.7%, from a half-century low of 3.5% in July, as more Americans came off the sidelines to look for jobs.                                                                 |\n",
      "|Nina Golgowski                         |U.S. NEWS     |2022-09-01|Pregnant Woman Who Claimed Unborn Baby Was HOV Lane Passenger Receives Another Ticket   |https://www.huffpost.com/entry/pregnant-brandy-bottone-texas-hov-lane-citation_n_6310b3f7e4b088f7423b32d0        |Brandy Bottone had referred to Roe v. Wade and Texas' penal code, which identifies an unborn child as an individual, when she was first stopped for using the lane.                                     |\n",
      "|Eric Tucker and Mary Clare Jalonick, AP|U.S. NEWS     |2022-09-21|Virginia Thomas Agrees To Interview With Jan. 6 Panel                                   |https://www.huffpost.com/entry/virginia-thomas-agrees-to-interview-with-jan-6-panel_n_632ba0f2e4b09d8701bbe16d   |Conservative activist Virginia Thomas, the wife of Supreme Court Justice Clarence Thomas, has agreed to participate in a voluntary interview with the House panel investigating the Jan. 6 insurrection.|\n",
      "|Marco Margaritoff                      |WORLD NEWS    |2022-09-20|Russian Cosmonaut Valery Polyakov Who Broke Record With 437-Day Stay In Space Dies At 80|https://www.huffpost.com/entry/valery-polyakov-dies_n_6329d497e4b0913a3dd5336c                                   |Polyakov's record-breaking trip to outer space saw him orbit Earth 7,075 times and travel nearly 187 million miles.                                                                                     |\n",
      "|Marina Fang and Candice Frederick      |CULTURE & ARTS|2022-09-20|'Reboot' Is A Clever And Not Too Navel-Gazey Look Inside TV Reboots                     |https://www.huffpost.com/entry/hulu-reboot-should-you-watch-it_n_6324a099e4b0eac9f4e18b46                        |Starring Keegan-Michael Key, Judy Greer and Johnny Knoxville, the Hulu show follows the revival of a fictional early 2000s sitcom.                                                                      |\n",
      "|Beth Harris, AP                        |SPORTS        |2022-09-20|Maury Wills, Base-Stealing Shortstop For Dodgers, Dies At 89                            |https://www.huffpost.com/entry/dodgers-baseball-obit-wills_n_6329feb3e4b07198f0134500                            |Maury Wills, who helped the Los Angeles Dodgers win three World Series titles with his base-stealing prowess, has died.                                                                                 |\n",
      "|Jon Gambrell, AP                       |WORLD NEWS    |2022-09-20|4 Russian-Controlled Ukrainian Regions Schedule Votes This Week To Join Russia          |https://www.huffpost.com/entry/russian-controlled-ukrainian-regions-referendum_n_6329d53ae4b07198f012f023        |The concerted and quickening Kremlin-backed efforts to swallow up four regions could set the stage for Moscow to escalate the war.                                                                      |\n",
      "|Dánica Coto, AP                        |WORLD NEWS    |2022-09-20|Fiona Barrels Toward Turks And Caicos Islands As Category 3 Hurricane                   |https://www.huffpost.com/entry/hurricane-fiona-barrels-toward-turks-and-caicos-islands_n_63298597e4b0ed991abcacf9|The Turks and Caicos Islands government imposed a curfew as the intensifying storm kept dropping copious rain over the Dominican Republic and Puerto Rico.                                              |\n",
      "|                                       |ENTERTAINMENT |2022-09-20|Golden Globes Returning To NBC In January After Year Off-Air                            |https://www.huffpost.com/entry/golden-globes-return-nbc_n_6329f151e4b0ed991abda7f3                               |For the past 18 months, Hollywood has effectively boycotted the Globes after reports that the HFPA’s 87 members of non-American journalists included no Black members.                                  |\n",
      "|                                       |POLITICS      |2022-09-19|Biden Says U.S. Forces Would Defend Taiwan If China Invaded                             |https://www.huffpost.com/entry/biden-us-forces-defend-taiwan-against-china_n_6327ec68e4b0ed021dfe3695            |President issues vow as tensions with China rise.                                                                                                                                                       |\n",
      "+---------------------------------------+--------------+----------+----------------------------------------------------------------------------------------+-----------------------------------------------------------------------------------------------------------------+--------------------------------------------------------------------------------------------------------------------------------------------------------------------------------------------------------+\n",
      "only showing top 20 rows\n",
      "\n"
     ]
    }
   ],
   "source": [
    "# To the schema of the data, place a sample json file and change readStream to read \n",
    "read_df.printSchema()\n",
    "read_df.show(truncate=False)"
   ]
  },
  {
   "cell_type": "code",
   "execution_count": null,
   "id": "6e64e6df-a2cd-4cf2-9b89-19eb9d84ae42",
   "metadata": {},
   "outputs": [],
   "source": [
    "# Write the output to console sink to check the output\n",
    "writing_df = streaming_df.writeStream \\\n",
    "    .format(\"json\") \\\n",
    "    .option(\"path\", \"MidTermExam_data/output-05111740000122/\") \\\n",
    "    .option(\"checkpointLocation\",\"MidTermExam_data/checkpoint-05111740000122\") \\\n",
    "    .outputMode(\"append\") \\\n",
    "    .start()\n",
    "    \n",
    "# Start the streaming application to run until the following happens\n",
    "# 1. Exception in the running program\n",
    "# 2. Manual Interruption\n",
    "writing_df.awaitTermination()"
   ]
  },
  {
   "cell_type": "code",
   "execution_count": 3,
   "id": "b279c6b4-9e9a-4a6c-a94f-55bd0e16604c",
   "metadata": {},
   "outputs": [
    {
     "name": "stdout",
     "output_type": "stream",
     "text": [
      "+---------------------------------------+--------------+----------+----------------------------------------------------------------------------------------+-----------------------------------------------------------------------------------------------------------------+--------------------------------------------------------------------------------------------------------------------------------------------------------------------------------------------------------+\n",
      "|authors                                |category      |date      |headline                                                                                |link                                                                                                             |short_description                                                                                                                                                                                       |\n",
      "+---------------------------------------+--------------+----------+----------------------------------------------------------------------------------------+-----------------------------------------------------------------------------------------------------------------+--------------------------------------------------------------------------------------------------------------------------------------------------------------------------------------------------------+\n",
      "|                                       |U.S. NEWS     |2022-09-04|Emergency Declared As Flash Flooding Hits Northwest Georgia                             |https://www.huffpost.com/entry/georgia-flash-flooding_n_63151514e4b0eac9f4cdc7d3                                 |Thunderstorms and heavy rain pounded parts of northwest Georgia on Sunday, sparking flash flooding and dangerously high waters in some areas.                                                           |\n",
      "|Marco Margaritoff                      |ENTERTAINMENT |2022-09-03|'The Osbournes' Will Return In British Revival On BBC: 'Same Laughter, Love And Tears'  |https://www.huffpost.com/entry/the-osbournes-revival-series-announcement_n_6313714ee4b046aa022acc2e              |Millennials might remember the family's MTV reality series from the early 2000s. The BBC series will be filmed at the 350-acre Osbourne estate in England.                                              |\n",
      "|                                       |U.S. NEWS     |2022-09-03|Plane That Circled Mississippi Threatening To Crash Has Landed                          |https://www.huffpost.com/entry/tupelo-mississippi-airplane-walmart_n_6313572be4b0536be045b912                    |A pilot has been arrested after circling a small airplane over Tupelo, Mississippi, while threatening to crash into a Walmart store.                                                                    |\n",
      "|Marcia Dunn, AP                        |SCIENCE       |2022-09-03|Fuel Leak Ruins NASA's 2nd Shot At Launching New Moon Rocket                            |https://www.huffpost.com/entry/fuel-leak-ruins-nasa-launch-moon-artemis_n_63137247e4b0eac9f4cd4aa2               |Part of the space agency's Artemis program, the rocket is the most powerful to date.                                                                                                                    |\n",
      "|Terry Wallace, AP                      |U.S. NEWS     |2022-09-03|9 Migrants Are Found Dead In Rio Grande: Border Patrol                                  |https://www.huffpost.com/entry/8-migrants-dead-rio-grande-border-patrol_n_6312d71ce4b0536be0458388               |Tragic toll followed hazardous crossing by desperate dozens, said officials.                                                                                                                            |\n",
      "|Ben Blanchet                           |U.S. NEWS     |2022-09-02|Owner Of New England Frozen Yogurt Shops Accused Of Hiding Camera In Store Bathroom     |https://www.huffpost.com/entry/new-england-frozen-yogurt-owner-charged_n_6311972ae4b020c4ffab96b2                |Nashua police charged Chanphanou (Sab) Pou with three misdemeanor counts of violation of privacy. He could face up to one year in jail for each charge.                                                 |\n",
      "|Marita Vlachou                         |POLITICS      |2022-09-02|Former White House Counsel Pat Cipollone To Testify Before Grand Jury: Reports          |https://www.huffpost.com/entry/pat-cipollone-jan-6-grand-jury_n_6311c619e4b07d96a24d2ae8                         |Cipollone's former deputy Patrick Philbin is also reportedly scheduled to provide testimony to the grand jury on Friday.                                                                                |\n",
      "|                                       |U.S. NEWS     |2022-09-02|Tropical Storm Danielle Strengthens Into Hurricane, No Current Threat To Land           |https://www.huffpost.com/entry/hurricane-danielle-tropical-storm_n_631236a4e4b020c4ffacca40                      |The storm — the first hurricane of an unusually quiet storm season — is centered about 885 miles west of the Azores.                                                                                    |\n",
      "|Jim Heintz and Vladimir Isachenkov, AP |WORLD NEWS    |2022-09-02|Putin Plans To Snub Gorbachev's Funeral                                                 |https://www.huffpost.com/entry/putin-snubs-gorbachev-funeral_n_6312499ce4b09e34c39504ef                          |The low-key funeral reflects the Kremlin’s uneasiness about the legacy of Gorbachev, who is despised by many at home for the collapse of the Soviet Union.                                              |\n",
      "|Marcia Dunn, AP                        |U.S. NEWS     |2022-09-02|NASA Aims For Saturday Launch Of New Moon Rocket After Fixing Fuel Leaks                |https://www.huffpost.com/entry/nasa-artemis-rocket-launch_n_631265e3e4b0fc6bd23b7e7e                             |The inaugural flight of the 322-foot Artemis I rocket — the most powerful ever built by NASA — was delayed late in the countdown Monday.                                                                |\n",
      "|Christopher Rugaber, AP                |U.S. NEWS     |2022-09-02|U.S. Hiring Slowed In August As Employers Add 315,000 Jobs                              |https://www.huffpost.com/entry/us-economy-jobs-report-august_n_6311fc30e4b0aefceecb070e                          |The unemployment rate rose to 3.7%, from a half-century low of 3.5% in July, as more Americans came off the sidelines to look for jobs.                                                                 |\n",
      "|Nina Golgowski                         |U.S. NEWS     |2022-09-01|Pregnant Woman Who Claimed Unborn Baby Was HOV Lane Passenger Receives Another Ticket   |https://www.huffpost.com/entry/pregnant-brandy-bottone-texas-hov-lane-citation_n_6310b3f7e4b088f7423b32d0        |Brandy Bottone had referred to Roe v. Wade and Texas' penal code, which identifies an unborn child as an individual, when she was first stopped for using the lane.                                     |\n",
      "|Eric Tucker and Mary Clare Jalonick, AP|U.S. NEWS     |2022-09-21|Virginia Thomas Agrees To Interview With Jan. 6 Panel                                   |https://www.huffpost.com/entry/virginia-thomas-agrees-to-interview-with-jan-6-panel_n_632ba0f2e4b09d8701bbe16d   |Conservative activist Virginia Thomas, the wife of Supreme Court Justice Clarence Thomas, has agreed to participate in a voluntary interview with the House panel investigating the Jan. 6 insurrection.|\n",
      "|Marco Margaritoff                      |WORLD NEWS    |2022-09-20|Russian Cosmonaut Valery Polyakov Who Broke Record With 437-Day Stay In Space Dies At 80|https://www.huffpost.com/entry/valery-polyakov-dies_n_6329d497e4b0913a3dd5336c                                   |Polyakov's record-breaking trip to outer space saw him orbit Earth 7,075 times and travel nearly 187 million miles.                                                                                     |\n",
      "|Marina Fang and Candice Frederick      |CULTURE & ARTS|2022-09-20|'Reboot' Is A Clever And Not Too Navel-Gazey Look Inside TV Reboots                     |https://www.huffpost.com/entry/hulu-reboot-should-you-watch-it_n_6324a099e4b0eac9f4e18b46                        |Starring Keegan-Michael Key, Judy Greer and Johnny Knoxville, the Hulu show follows the revival of a fictional early 2000s sitcom.                                                                      |\n",
      "|Beth Harris, AP                        |SPORTS        |2022-09-20|Maury Wills, Base-Stealing Shortstop For Dodgers, Dies At 89                            |https://www.huffpost.com/entry/dodgers-baseball-obit-wills_n_6329feb3e4b07198f0134500                            |Maury Wills, who helped the Los Angeles Dodgers win three World Series titles with his base-stealing prowess, has died.                                                                                 |\n",
      "|Jon Gambrell, AP                       |WORLD NEWS    |2022-09-20|4 Russian-Controlled Ukrainian Regions Schedule Votes This Week To Join Russia          |https://www.huffpost.com/entry/russian-controlled-ukrainian-regions-referendum_n_6329d53ae4b07198f012f023        |The concerted and quickening Kremlin-backed efforts to swallow up four regions could set the stage for Moscow to escalate the war.                                                                      |\n",
      "|Dánica Coto, AP                        |WORLD NEWS    |2022-09-20|Fiona Barrels Toward Turks And Caicos Islands As Category 3 Hurricane                   |https://www.huffpost.com/entry/hurricane-fiona-barrels-toward-turks-and-caicos-islands_n_63298597e4b0ed991abcacf9|The Turks and Caicos Islands government imposed a curfew as the intensifying storm kept dropping copious rain over the Dominican Republic and Puerto Rico.                                              |\n",
      "|                                       |ENTERTAINMENT |2022-09-20|Golden Globes Returning To NBC In January After Year Off-Air                            |https://www.huffpost.com/entry/golden-globes-return-nbc_n_6329f151e4b0ed991abda7f3                               |For the past 18 months, Hollywood has effectively boycotted the Globes after reports that the HFPA’s 87 members of non-American journalists included no Black members.                                  |\n",
      "|                                       |POLITICS      |2022-09-19|Biden Says U.S. Forces Would Defend Taiwan If China Invaded                             |https://www.huffpost.com/entry/biden-us-forces-defend-taiwan-against-china_n_6327ec68e4b0ed021dfe3695            |President issues vow as tensions with China rise.                                                                                                                                                       |\n",
      "+---------------------------------------+--------------+----------+----------------------------------------------------------------------------------------+-----------------------------------------------------------------------------------------------------------------+--------------------------------------------------------------------------------------------------------------------------------------------------------------------------------------------------------+\n",
      "only showing top 20 rows\n",
      "\n"
     ]
    }
   ],
   "source": [
    "# Check the data at the output location\n",
    "\n",
    "out_df = spark.read.json(\"MidTermExam_data/output-05111740000122/\")\n",
    "out_df.show(truncate=False)\n"
   ]
  },
  {
   "cell_type": "code",
   "execution_count": null,
   "id": "f1c4f12e-e3ad-4f00-b285-a1c1e87ab8c3",
   "metadata": {},
   "outputs": [],
   "source": []
  }
 ],
 "metadata": {
  "kernelspec": {
   "display_name": "Python 3 (ipykernel)",
   "language": "python",
   "name": "python3"
  },
  "language_info": {
   "codemirror_mode": {
    "name": "ipython",
    "version": 3
   },
   "file_extension": ".py",
   "mimetype": "text/x-python",
   "name": "python",
   "nbconvert_exporter": "python",
   "pygments_lexer": "ipython3",
   "version": "3.9.16"
  }
 },
 "nbformat": 4,
 "nbformat_minor": 5
}
